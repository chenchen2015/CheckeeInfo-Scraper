{
 "cells": [
  {
   "cell_type": "markdown",
   "metadata": {},
   "source": [
    "## Checkee.info Data Analysis\n",
    "Some very simple data analysis of the scraped data from [Checkee.info](http://checkee.info/).\n",
    "\n",
    "I am also using this data set to practice how to use the Pandas library in Python 3.\n",
    "\n",
    "*Note that due to the limitations of the dataset, the results are not likely to be reliable and can only be used as an overview.*"
   ]
  },
  {
   "cell_type": "code",
   "execution_count": 1,
   "metadata": {},
   "outputs": [],
   "source": [
    "# xlrd to read .xlsx sheet data\n",
    "import xlrd\n",
    "from xlrd.xldate import xldate_as_datetime\n",
    "\n",
    "# Import Pandas library\n",
    "import pandas as pd\n",
    "\n",
    "# Import matplotlib\n",
    "import matplotlib.pyplot as plt\n",
    "\n",
    "# Import numpy\n",
    "import numpy as np\n",
    "\n",
    "# Import stats methods for statistical analysis\n",
    "from scipy.stats import norm, normaltest, gamma\n",
    "\n",
    "# Make sure plots are inline\n",
    "%matplotlib inline"
   ]
  },
  {
   "cell_type": "code",
   "execution_count": 2,
   "metadata": {},
   "outputs": [],
   "source": [
    "# Read scraped datasheet\n",
    "workbook = xlrd.open_workbook('VISA-Data-2018-04-05.xlsx')\n",
    "booksheet = workbook.sheet_by_index(0)\n",
    "\n",
    "# Get data fields\n",
    "startRow = 5 - 1\n",
    "userID = booksheet.col_values(0,startRow)\n",
    "visaType = booksheet.col_values(2,startRow)\n",
    "visaEntry = booksheet.col_values(3,startRow)\n",
    "city = booksheet.col_values(4,startRow)\n",
    "waitDays = booksheet.col_values(9,startRow)\n",
    "\n",
    "# By default, xlrd will read the date fields into numeric values (xldate type)\n",
    "# So here I need to convert xldate into datetime type\n",
    "dateNum = booksheet.col_values(7,startRow)\n",
    "checkDate = []\n",
    "for item in dateNum:\n",
    "    checkDate.append(xldate_as_datetime(item,0))"
   ]
  },
  {
   "cell_type": "code",
   "execution_count": 3,
   "metadata": {},
   "outputs": [
    {
     "data": {
      "text/html": [
       "<div>\n",
       "<style scoped>\n",
       "    .dataframe tbody tr th:only-of-type {\n",
       "        vertical-align: middle;\n",
       "    }\n",
       "\n",
       "    .dataframe tbody tr th {\n",
       "        vertical-align: top;\n",
       "    }\n",
       "\n",
       "    .dataframe thead th {\n",
       "        text-align: right;\n",
       "    }\n",
       "</style>\n",
       "<table border=\"1\" class=\"dataframe\">\n",
       "  <thead>\n",
       "    <tr style=\"text-align: right;\">\n",
       "      <th></th>\n",
       "      <th>checkDate</th>\n",
       "      <th>city</th>\n",
       "      <th>visaEntry</th>\n",
       "      <th>visaType</th>\n",
       "      <th>waitDays</th>\n",
       "    </tr>\n",
       "    <tr>\n",
       "      <th>userID</th>\n",
       "      <th></th>\n",
       "      <th></th>\n",
       "      <th></th>\n",
       "      <th></th>\n",
       "      <th></th>\n",
       "    </tr>\n",
       "  </thead>\n",
       "  <tbody>\n",
       "    <tr>\n",
       "      <th>14777.0</th>\n",
       "      <td>2018-03-22</td>\n",
       "      <td>ShangHai</td>\n",
       "      <td>New</td>\n",
       "      <td>H1</td>\n",
       "      <td>11.0</td>\n",
       "    </tr>\n",
       "    <tr>\n",
       "      <th>14778.0</th>\n",
       "      <td>2018-03-22</td>\n",
       "      <td>BeiJing</td>\n",
       "      <td>New</td>\n",
       "      <td>B2</td>\n",
       "      <td>5.0</td>\n",
       "    </tr>\n",
       "    <tr>\n",
       "      <th>14779.0</th>\n",
       "      <td>2018-03-23</td>\n",
       "      <td>GuangZhou</td>\n",
       "      <td>Renewal</td>\n",
       "      <td>B1</td>\n",
       "      <td>11.0</td>\n",
       "    </tr>\n",
       "    <tr>\n",
       "      <th>14780.0</th>\n",
       "      <td>2018-03-26</td>\n",
       "      <td>ShangHai</td>\n",
       "      <td>New</td>\n",
       "      <td>H1</td>\n",
       "      <td>8.0</td>\n",
       "    </tr>\n",
       "    <tr>\n",
       "      <th>14781.0</th>\n",
       "      <td>2018-03-30</td>\n",
       "      <td>ChengDu</td>\n",
       "      <td>New</td>\n",
       "      <td>B2</td>\n",
       "      <td>1.0</td>\n",
       "    </tr>\n",
       "  </tbody>\n",
       "</table>\n",
       "</div>"
      ],
      "text/plain": [
       "         checkDate       city visaEntry visaType  waitDays\n",
       "userID                                                    \n",
       "14777.0 2018-03-22   ShangHai       New       H1      11.0\n",
       "14778.0 2018-03-22    BeiJing       New       B2       5.0\n",
       "14779.0 2018-03-23  GuangZhou   Renewal       B1      11.0\n",
       "14780.0 2018-03-26   ShangHai       New       H1       8.0\n",
       "14781.0 2018-03-30    ChengDu       New       B2       1.0"
      ]
     },
     "execution_count": 3,
     "metadata": {},
     "output_type": "execute_result"
    }
   ],
   "source": [
    "# Assemble all the data into a Pandas.DataFrame object\n",
    "df = pd.DataFrame({\n",
    "        'userID'    : pd.Series(userID),\n",
    "        'visaType'  : pd.Categorical(visaType),\n",
    "        'visaEntry' : pd.Categorical(visaEntry),\n",
    "        'city'      : pd.Categorical(city),\n",
    "        'checkDate' : checkDate,\n",
    "        'waitDays'  : pd.Series(waitDays)\n",
    "        })\n",
    "\n",
    "# Use userID as the index\n",
    "df = df.set_index('userID')\n",
    "\n",
    "# Show raw data\n",
    "df.tail()"
   ]
  },
  {
   "cell_type": "markdown",
   "metadata": {},
   "source": [
    "As shown above, the raw data includs a couple of fields:\n",
    "- **checkDate** - When the applicant applied for visa\n",
    "- **city** - Where did the application submitted\n",
    "- **userID** - An unique annonymous user identifier\n",
    "- **visaEntry** - Is the application new or renewal\n",
    "- **visaType** - Type of visa applied\n",
    "- **waitDays** - How long did it take to finally get the visa\n",
    "\n",
    "Note that all the data here are those marked as complete."
   ]
  },
  {
   "cell_type": "code",
   "execution_count": 4,
   "metadata": {},
   "outputs": [
    {
     "data": {
      "text/plain": [
       "Text(0.5,0,'Population Size by Visa Type')"
      ]
     },
     "execution_count": 4,
     "metadata": {},
     "output_type": "execute_result"
    },
    {
     "data": {
      "image/png": "[encoded data removed]",
      "text/plain": [
       "<Figure size 432x288 with 1 Axes>"
      ]
     },
     "metadata": {},
     "output_type": "display_data"
    }
   ],
   "source": [
    "# Group data by Visa Type\n",
    "vt = df.groupby('visaType')\n",
    "\n",
    "# Get waiting days data\n",
    "wd = vt['waitDays']\n",
    "\n",
    "# Summarize Data Population\n",
    "ax1 = wd.count().plot(kind='pie')\n",
    "plt.xlabel('Population Size by Visa Type',fontweight='bold')"
   ]
  },
  {
   "cell_type": "markdown",
   "metadata": {},
   "source": [
    "Facts based on population:\n",
    "- F1 visa have most records ($n=7992$)\n",
    "- J1 has the second largest records ($n=3039$), followed by H1 ($n=2454$)\n",
    "- B1 and B2 together has $n=2189$ records."
   ]
  },
  {
   "cell_type": "code",
   "execution_count": 18,
   "metadata": {},
   "outputs": [
    {
     "data": {
      "image/png": "[encoded data removed]",
      "text/plain": [
       "<Figure size 432x288 with 1 Axes>"
      ]
     },
     "metadata": {},
     "output_type": "display_data"
    }
   ],
   "source": [
    "# Get F1 Visa waiting days data\n",
    "wdF1 = wd.get_group('F1')\n",
    "\n",
    "# Clip irregular values\n",
    "wdF1 = wdF1.clip_upper(100)\n",
    "\n",
    "# Try to fit a normal distribution\n",
    "mu, std = norm.fit(wdF1.values)\n",
    "# and gamma distribution\n",
    "a, l, s = gamma.fit(wdF1.values)\n",
    "\n",
    "# Plot histogram overlayed with normal distribution fit\n",
    "wdF1.hist(bins=50, density=True, alpha=0.8, color='#6495ED')\n",
    "plt.xlabel('Wait Days',fontweight='bold')\n",
    "plt.ylabel('Frequncy',fontweight='bold')\n",
    "# overlay - Normal Distribution\n",
    "x = np.linspace(0, 100, 100)\n",
    "p = norm.pdf(x, mu, std) * 1.3\n",
    "plt.plot(x, p, 'k', linewidth=2)\n",
    "title = \"Fit result : Norm (Mean = %.2f,  Std = %.2f), Gamma (a = %.2f) \" % (mu, std, a)\n",
    "plt.title(title)\n",
    "# overlay - Gamma Distribution\n",
    "p = gamma.pdf(x, a, loc=l, scale=s) * 1.3\n",
    "plt.plot(x, p, 'r', linewidth=2)\n",
    "\n",
    "plt.legend(['Norm fit','Gamma fit','data'])\n",
    "plt.tick_params(labelleft=True)\n",
    "plt.xlim(0, 100)\n",
    "plt.show()"
   ]
  },
  {
   "cell_type": "code",
   "execution_count": null,
   "metadata": {},
   "outputs": [],
   "source": [
    "# Let's first make sure it comes from a normal distribution by conducting a Chi-squared test\n",
    "_, pval = normaltest(wdF1.values)\n",
    "print('Chi-Squared test p = %.10f' % pval)\n",
    "\n",
    "# Estimate 95% confidence interval by taking [mu-2*SE, mu+2*SE] (assume normal distribution)\n",
    "interval = norm.interval(0.95, loc=mu, scale=std/np.sqrt(wdF1.count()))\n",
    "print('95%% CI of waiting days: (%.3f, %.3f)' % (interval[0], interval[1]))"
   ]
  },
  {
   "cell_type": "code",
   "execution_count": null,
   "metadata": {},
   "outputs": [],
   "source": [
    "vt = df.groupby('visaType')\n",
    "\n",
    "# Get waiting days data\n",
    "wd = vt['waitDays']\n",
    "\n",
    "ax1 = wd.count()\n",
    "plt.plot(ax1, kind='pie')\n",
    "#plt.xlabel('Population Size by Visa Type',fontweight='bold')"
   ]
  },
  {
   "cell_type": "markdown",
   "metadata": {},
   "source": [
    "The plot above shows the histogram and fitted distribution based on all the F1 visa records available ($n=7992$). Here are some interpretations:\n",
    "- Sample mean ($\\mu=32.04$) suggest the the average waiting days for F1 visa applicant being checked is around 32.04 days. Specifically, 95% confidence interval is **(31.667, 32.419) days**\n",
    "- Sample has a rather large standard deviation ($\\sigma=17.14$). One standard deviation range ($\\mu\\pm\\sigma$, *i.e.* ~68% of the population) is (14.9, 49.18) days which is about **2 to 7 weeks**. In addition, two standard deviation range ($\\mu\\pm2\\sigma$, *i.e.* ~95% of the population) is (-2.24, 66.33) days which is about **0 to 9 weeks**.\n",
    "- Based on the fitted curves, a gamma (skewed distribution) looks visually better than a normal fit which implies two things. First, the mean is skewed towards the left means there are more people get cleared within 32 days (sample mean). Second, distribution has a rather long tail on the right which suggest those people like me who unformatunately got checked longer than the mean **tend to be very long (e.g. I got checked for 49 days)**."
   ]
  }
 ],
 "metadata": {
  "celltoolbar": "Raw Cell Format",
  "kernelspec": {
   "display_name": "Python 3",
   "language": "python",
   "name": "python3"
  },
  "language_info": {
   "codemirror_mode": {
    "name": "ipython",
    "version": 3
   },
   "file_extension": ".py",
   "mimetype": "text/x-python",
   "name": "python",
   "nbconvert_exporter": "python",
   "pygments_lexer": "ipython3",
   "version": "3.6.5"
  }
 },
 "nbformat": 4,
 "nbformat_minor": 2
}
