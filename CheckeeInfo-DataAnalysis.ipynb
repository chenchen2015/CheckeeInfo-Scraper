{
 "cells": [
  {
   "cell_type": "markdown",
   "metadata": {},
   "source": [
    "## Checkee.info Data Analysis\n",
    "Some very simple data analysis of the scraped data from [Checkee.info](http://checkee.info/).\n",
    "\n",
    "I am also using this data set to practice how to use the Pandas library in Python 3.\n",
    "\n",
    "*Note that due to the limitations of the dataset, the results are not likely to be reliable and can only be used as an overview.*"
   ]
  },
  {
   "cell_type": "code",
   "execution_count": 17,
   "metadata": {
    "collapsed": false
   },
   "outputs": [],
   "source": [
    "# Make sure plots are inline\n",
    "%matplotlib inline\n",
    "\n",
    "# xlrd to read .xlsx sheet data\n",
    "import xlrd\n",
    "from xlrd.xldate import xldate_as_datetime\n",
    "\n",
    "# Import Pandas library\n",
    "import pandas as pd\n",
    "\n",
    "# Import matplotlib\n",
    "import matplotlib.pyplot as plt"
   ]
  },
  {
   "cell_type": "code",
   "execution_count": 4,
   "metadata": {
    "collapsed": false
   },
   "outputs": [],
   "source": [
    "# Read scraped datasheet\n",
    "workbook = xlrd.open_workbook('VISA-Data-2017-03-04.xlsx')\n",
    "booksheet = workbook.sheet_by_index(0)\n",
    "\n",
    "# Get data fields\n",
    "startRow = 5 - 1\n",
    "userID = booksheet.col_values(0,startRow)\n",
    "visaType = booksheet.col_values(2,startRow)\n",
    "visaEntry = booksheet.col_values(3,startRow)\n",
    "city = booksheet.col_values(4,startRow)\n",
    "waitDays = booksheet.col_values(9,startRow)\n",
    "\n",
    "# By default, xlrd will read the date fields into numeric values (xldate type)\n",
    "# So here I need to convert xldate into datetime type\n",
    "dateNum = booksheet.col_values(7,startRow)\n",
    "checkDate = []\n",
    "for _,item in enumerate(dateNum):\n",
    "    checkDate.append(xldate_as_datetime(item,0))"
   ]
  },
  {
   "cell_type": "code",
   "execution_count": 10,
   "metadata": {
    "collapsed": false
   },
   "outputs": [
    {
     "data": {
      "text/html": [
       "<div>\n",
       "<table border=\"1\" class=\"dataframe\">\n",
       "  <thead>\n",
       "    <tr style=\"text-align: right;\">\n",
       "      <th></th>\n",
       "      <th>checkDate</th>\n",
       "      <th>city</th>\n",
       "      <th>userID</th>\n",
       "      <th>visaEntry</th>\n",
       "      <th>visaType</th>\n",
       "      <th>waitDays</th>\n",
       "    </tr>\n",
       "  </thead>\n",
       "  <tbody>\n",
       "    <tr>\n",
       "      <th>16292</th>\n",
       "      <td>2017-02-21</td>\n",
       "      <td>ShangHai</td>\n",
       "      <td>16299.0</td>\n",
       "      <td>New</td>\n",
       "      <td>H1</td>\n",
       "      <td>6.0</td>\n",
       "    </tr>\n",
       "    <tr>\n",
       "      <th>16293</th>\n",
       "      <td>2017-02-22</td>\n",
       "      <td>BeiJing</td>\n",
       "      <td>16300.0</td>\n",
       "      <td>New</td>\n",
       "      <td>H1</td>\n",
       "      <td>2.0</td>\n",
       "    </tr>\n",
       "    <tr>\n",
       "      <th>16294</th>\n",
       "      <td>2017-02-24</td>\n",
       "      <td>BeiJing</td>\n",
       "      <td>16301.0</td>\n",
       "      <td>New</td>\n",
       "      <td>F1</td>\n",
       "      <td>4.0</td>\n",
       "    </tr>\n",
       "    <tr>\n",
       "      <th>16295</th>\n",
       "      <td>2017-02-27</td>\n",
       "      <td>ShangHai</td>\n",
       "      <td>16302.0</td>\n",
       "      <td>New</td>\n",
       "      <td>H1</td>\n",
       "      <td>1.0</td>\n",
       "    </tr>\n",
       "    <tr>\n",
       "      <th>16296</th>\n",
       "      <td>2017-02-27</td>\n",
       "      <td>GuangZhou</td>\n",
       "      <td>16303.0</td>\n",
       "      <td>Renewal</td>\n",
       "      <td>F1</td>\n",
       "      <td>1.0</td>\n",
       "    </tr>\n",
       "  </tbody>\n",
       "</table>\n",
       "</div>"
      ],
      "text/plain": [
       "       checkDate       city   userID visaEntry visaType  waitDays\n",
       "16292 2017-02-21   ShangHai  16299.0       New       H1       6.0\n",
       "16293 2017-02-22    BeiJing  16300.0       New       H1       2.0\n",
       "16294 2017-02-24    BeiJing  16301.0       New       F1       4.0\n",
       "16295 2017-02-27   ShangHai  16302.0       New       H1       1.0\n",
       "16296 2017-02-27  GuangZhou  16303.0   Renewal       F1       1.0"
      ]
     },
     "execution_count": 10,
     "metadata": {},
     "output_type": "execute_result"
    }
   ],
   "source": [
    "# Assemble all the data into a Pandas.DataFrame object\n",
    "df = pd.DataFrame({\n",
    "        'userID'    : pd.Series(userID),\n",
    "        'visaType'  : pd.Categorical(visaType),\n",
    "        'visaEntry' : pd.Categorical(visaEntry),\n",
    "        'city'      : pd.Categorical(city),\n",
    "        'checkDate' : checkDate,\n",
    "        'waitDays'  : pd.Series(waitDays)\n",
    "        })\n",
    "\n",
    "# Use [userID, checkDate] pair as the index\n",
    "df.set_index(['userID','checkDate'])\n",
    "\n",
    "# Show raw data\n",
    "df.tail()"
   ]
  },
  {
   "cell_type": "markdown",
   "metadata": {},
   "source": [
    "As shown above, the raw data includs a couple of fields:\n",
    "- **checkDate** - When the applicant applied for visa\n",
    "- **city** - Where did the application submitted\n",
    "- **userID** - An unique annonymous user identifier\n",
    "- **visaEntry** - Is the application new or renewal\n",
    "- **visaType** - Type of visa applied\n",
    "- **waitDays** - How long did it take to finally get the visa\n",
    "\n",
    "Note that all the data here are those marked as complete."
   ]
  },
  {
   "cell_type": "code",
   "execution_count": 22,
   "metadata": {
    "collapsed": false
   },
   "outputs": [
    {
     "data": {
      "text/plain": [
       "<matplotlib.text.Text at 0x23a8b8aeef0>"
      ]
     },
     "execution_count": 22,
     "metadata": {},
     "output_type": "execute_result"
    },
    {
     "data": {
      "image/png": "[encoded data removed]",
      "text/plain": [
       "<matplotlib.figure.Figure at 0x23a8a1daf60>"
      ]
     },
     "metadata": {},
     "output_type": "display_data"
    }
   ],
   "source": [
    "# Group data by Visa Type\n",
    "vt = df.groupby('visaType')\n",
    "\n",
    "# Get waiting days data\n",
    "wd = vt['waitDays']\n",
    "\n",
    "# Summarize Data\n",
    "#wd.count()\n",
    "\n",
    "ax1 = wd.count().plot(kind='barh')\n",
    "plt.xlabel('# of Records',fontweight='bold')\n",
    "plt.ylabel('Visa Type',fontweight='bold')"
   ]
  },
  {
   "cell_type": "markdown",
   "metadata": {},
   "source": [
    "Facts based on population:\n",
    "- F1 visa have most records ($n=7992$)\n",
    "- J1 has the second largest records ($n=3039$), followed by H1 ($n=2454$)\n",
    "- B1 and B2 together has $n=2189$ records."
   ]
  }
 ],
 "metadata": {
  "celltoolbar": "Raw Cell Format",
  "kernelspec": {
   "display_name": "Python 3",
   "language": "python",
   "name": "python3"
  },
  "language_info": {
   "codemirror_mode": {
    "name": "ipython",
    "version": 3
   },
   "file_extension": ".py",
   "mimetype": "text/x-python",
   "name": "python",
   "nbconvert_exporter": "python",
   "pygments_lexer": "ipython3",
   "version": "3.6.0"
  }
 },
 "nbformat": 4,
 "nbformat_minor": 2
}
